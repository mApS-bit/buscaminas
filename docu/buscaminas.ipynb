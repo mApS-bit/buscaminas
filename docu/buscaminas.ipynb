{
 "cells": [
  {
   "cell_type": "markdown",
   "id": "a6fa6bdd",
   "metadata": {},
   "source": [
    "# Buscaminas game"
   ]
  },
  {
   "cell_type": "markdown",
   "id": "45c619de",
   "metadata": {},
   "source": [
    "This is a jupyter notebook for help me to developing a buscaminas game. Next up the set of rules you need to Know to play buscaminas:"
   ]
  },
  {
   "cell_type": "markdown",
   "id": "aaeddd3d",
   "metadata": {},
   "source": [
    "## Buscaminas Rules"
   ]
  },
  {
   "cell_type": "markdown",
   "id": "be7e4bfe",
   "metadata": {},
   "source": [
    "- The goal of the game is to uncover all the squares that do not contain mines.\n",
    "\n",
    "- The board contains hidden mines in some squares.\n",
    "\n",
    "- Each uncovered square shows a number:\n",
    "\n",
    "- The number indicates how many mines are in the 8 surrounding squares.\n",
    "\n",
    "- If the square contains a mine, you lose the game.\n",
    "\n",
    "- You can mark a square with a flag if you suspect it contains a mine.\n",
    "\n",
    "- If you uncover a square with no mine and the number 0, all adjacent squares are automatically uncovered.\n",
    "\n",
    "The game ends when:\n",
    "\n",
    "1. Victory: all non-mine squares have been uncovered.\n",
    "\n",
    "1. Defeat: you uncover a square that contains a mine. "
   ]
  },
  {
   "cell_type": "code",
   "execution_count": 3,
   "id": "989f407d",
   "metadata": {},
   "outputs": [],
   "source": [
    "import random\n",
    "import numpy as np"
   ]
  },
  {
   "cell_type": "markdown",
   "id": "0598c258",
   "metadata": {},
   "source": [
    "First of all we define board size and how many bob there will be."
   ]
  },
  {
   "cell_type": "code",
   "execution_count": 1,
   "id": "330ec6ca",
   "metadata": {},
   "outputs": [],
   "source": [
    "rows = 8\n",
    "columns = 8\n",
    "mines = 10"
   ]
  },
  {
   "cell_type": "code",
   "execution_count": 4,
   "id": "5095bfb6",
   "metadata": {},
   "outputs": [],
   "source": [
    "board =  np.zeros((rows, columns), dtype=int)"
   ]
  },
  {
   "cell_type": "markdown",
   "id": "9c3a4751",
   "metadata": {},
   "source": [
    "Let's create a method to fill the board randomly"
   ]
  },
  {
   "cell_type": "code",
   "execution_count": 7,
   "id": "ff1e4b72",
   "metadata": {},
   "outputs": [
    {
     "name": "stdout",
     "output_type": "stream",
     "text": [
      "[[-1  0 -1  0  0  0 -1  0]\n",
      " [ 0  0  0  0  0  0  0  0]\n",
      " [ 0  0  0  0  0  0  0 -1]\n",
      " [ 0 -1  0  0  0  0  0  0]\n",
      " [ 0  0  0  0 -1  0  0  0]\n",
      " [ 0  0  0 -1  0  0  0  0]\n",
      " [ 0 -1  0  0  0  0  0 -1]\n",
      " [ 0  0  0  0  0  0  0 -1]]\n"
     ]
    }
   ],
   "source": [
    "def random_board_fill(board,mines):\n",
    "    rows, columns = board.shape\n",
    "    positions = random.sample(range(rows * columns), mines)\n",
    "    for pos in positions:\n",
    "        row , col = divmod(pos, columns)\n",
    "        board[row][col] = -1\n",
    "    \n",
    "    return board\n",
    "\n",
    "board = random_board_fill(board, mines)\n",
    "print(board)"
   ]
  },
  {
   "cell_type": "markdown",
   "id": "055eb75f",
   "metadata": {},
   "source": [
    "Next step, Count how many mines there are around each cell"
   ]
  },
  {
   "cell_type": "code",
   "execution_count": 9,
   "id": "0a111100",
   "metadata": {},
   "outputs": [
    {
     "name": "stdout",
     "output_type": "stream",
     "text": [
      "[[-1  2 -1  1  0  1 -1  1]\n",
      " [ 1  2  1  1  0  1  2  2]\n",
      " [ 1  1  1  0  0  0  1 -1]\n",
      " [ 1 -1  1  1  1  1  1  1]\n",
      " [ 1  1  1  1 -1  1  0  0]\n",
      " [ 1  1  1  1  1  1  0  0]\n",
      " [ 1 -1  1  0  0  0  0  0]\n",
      " [ 1  1  1  0  0  0  0  0]]\n"
     ]
    }
   ],
   "source": [
    "def compute_board_numbers(board):\n",
    "    rows, columns = board.shape\n",
    "    for i in range(rows):\n",
    "        for j in range(columns):\n",
    "            if board[i][j] == -1:\n",
    "                continue\n",
    "\n",
    "            count = 0\n",
    "            for x in range(max(0, i-1), min(i + 2 , rows)):\n",
    "                for y in range(max(0, j-1), min(j + 2, columns)):\n",
    "                    if board[x][y] == -1:\n",
    "                        count += 1\n",
    "            board[i][j] = count\n",
    "    return board\n",
    "\n",
    "board =  compute_board_numbers(board)\n",
    "print(board)"
   ]
  },
  {
   "cell_type": "code",
   "execution_count": 10,
   "id": "392ce467",
   "metadata": {},
   "outputs": [
    {
     "name": "stdout",
     "output_type": "stream",
     "text": [
      "# # # # # # # # \n",
      "# # # # # # # # \n",
      "# # # # # # # # \n",
      "# # # # # # # # \n",
      "# # # # # # # # \n",
      "# # # # # # # # \n",
      "# # # # # # # # \n",
      "# # # # # # # # \n"
     ]
    }
   ],
   "source": [
    "def display_board(board, visible):\n",
    "    rows, columns = board.shape\n",
    "    for i in range(rows):\n",
    "        row = \"\"\n",
    "        for j in range(columns):\n",
    "            if visible[i][j]:\n",
    "                row += str(board[i][j]) + \" \"\n",
    "            else:\n",
    "                row += \"# \"\n",
    "        print(row)\n",
    "\n",
    "visible =  np.full((rows, columns), False)\n",
    "display_board(board, visible)"
   ]
  },
  {
   "cell_type": "code",
   "execution_count": null,
   "id": "fcf0aab6",
   "metadata": {},
   "outputs": [],
   "source": []
  }
 ],
 "metadata": {
  "kernelspec": {
   "display_name": "venv",
   "language": "python",
   "name": "python3"
  },
  "language_info": {
   "codemirror_mode": {
    "name": "ipython",
    "version": 3
   },
   "file_extension": ".py",
   "mimetype": "text/x-python",
   "name": "python",
   "nbconvert_exporter": "python",
   "pygments_lexer": "ipython3",
   "version": "3.11.2"
  }
 },
 "nbformat": 4,
 "nbformat_minor": 5
}
