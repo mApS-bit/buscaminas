{
 "cells": [
  {
   "cell_type": "markdown",
   "id": "a6fa6bdd",
   "metadata": {},
   "source": [
    "# Buscaminas game"
   ]
  },
  {
   "cell_type": "markdown",
   "id": "45c619de",
   "metadata": {},
   "source": [
    "This is a jupyter notebook for help me to developing a buscaminas game. Next up the set of rules you need to Know to play buscaminas:"
   ]
  },
  {
   "cell_type": "markdown",
   "id": "aaeddd3d",
   "metadata": {},
   "source": [
    "## Buscaminas Rules"
   ]
  },
  {
   "cell_type": "markdown",
   "id": "be7e4bfe",
   "metadata": {},
   "source": [
    "- The goal of the game is to uncover all the squares that do not contain mines.\n",
    "\n",
    "- The board contains hidden mines in some squares.\n",
    "\n",
    "- Each uncovered square shows a number:\n",
    "\n",
    "- The number indicates how many mines are in the 8 surrounding squares.\n",
    "\n",
    "- If the square contains a mine, you lose the game.\n",
    "\n",
    "- You can mark a square with a flag if you suspect it contains a mine.\n",
    "\n",
    "- If you uncover a square with no mine and the number 0, all adjacent squares are automatically uncovered.\n",
    "\n",
    "The game ends when:\n",
    "\n",
    "1. Victory: all non-mine squares have been uncovered.\n",
    "\n",
    "1. Defeat: you uncover a square that contains a mine. "
   ]
  }
 ],
 "metadata": {
  "language_info": {
   "name": "python"
  }
 },
 "nbformat": 4,
 "nbformat_minor": 5
}
